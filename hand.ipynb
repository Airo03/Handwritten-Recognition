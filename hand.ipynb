{
 "cells": [
  {
   "cell_type": "code",
   "execution_count": 1,
   "metadata": {},
   "outputs": [
    {
     "name": "stderr",
     "output_type": "stream",
     "text": [
      "\u001b[32m\u001b[1m   Resolving\u001b[22m\u001b[39m package versions...\n",
      "\u001b[32m\u001b[1m  No Changes\u001b[22m\u001b[39m to `C:\\Users\\MuhammadAli\\.julia\\environments\\v1.10\\Project.toml`\n",
      "\u001b[32m\u001b[1m  No Changes\u001b[22m\u001b[39m to `C:\\Users\\MuhammadAli\\.julia\\environments\\v1.10\\Manifest.toml`\n"
     ]
    }
   ],
   "source": [
    "using Pkg\n",
    "Pkg.add(\"Images\")\n",
    "using Images"
   ]
  },
  {
   "cell_type": "code",
   "execution_count": 2,
   "metadata": {},
   "outputs": [
    {
     "data": {
      "image/png": "[encoded data removed]",
      "text/html": [
       "<img src=\"data:image/png;base64,iVBORw0KGgoAAAANSUhEUgAAAHAAAABwCAAAAADji6uXAAAABGdBTUEAALGPC/xhBQAAAAFzUkdCAK7OHOkAAAAgY0hSTQAAeiYAAICEAAD6AAAAgOgAAHUwAADqYAAAOpgAABdwnLpRPAAAAjJJREFUaAW9wT1oHAQABtB3+mGISDN0sIK46SaGFEUnxbEVFTtIkWYVRCgoAYcomRzUDlYQBREUhTo4WCwihcKB0EGtOneTQkAtgu1ih5zDDRlyf0nley/KoizKoizKoizKoizKoizKoizKoizKoixuw1G8inV8jg9wxWxRFmVRFge0ios4hBFO4VkcNluURVmUxQE8hq+xghFu4BYO4wn8jFsmi7Ioi7LYh7uxhi9wn11X8Q7O4Qe8ibdNFmVRFmWxDx/jpL3WcA+GeAoPmy7KoizKYkFHcRwDY0N8i3exjV/wN57GwHRRFmVRFgtYxUUcwgjf4SSexCY+wZ/4DTs4jjVcsVeURVmUxRwPYQMr+Avb+Aw3cQEX7LWM1/GSvaIsyqIsZljCeziGG1jHT1g23wMmi7Ioi7KYYQ3HjD2HodsXZVEWZTHDGQwwxNBi7sAOBiaLsiiLspjiGaxihPMWt4MRfjVZlEVZlMUUy7gLf+Ar8y1hy9glvGGyKIuyKIs5/sW22ZawiQ1cwxncNFmURVmUxRznzbaKDbyIb3DCbFEWZVEWUwwwwPM4bbLXsIkVfIl180VZlEVZTDHCCEdwFp/iOh7HKTyC+/E7vseHFhNlURZlMcedeAUn8A8etOsyLuEti4uyKIuymOIyfsSjxo7gXmPXcQ6n7V+URVmUxRTX8AJexqZd7+MjXHUwURZlURYzbGMLW/4/URZlURZlURZlURZlURZlURZlURZlUfYfqPxYlL4fzGQAAAAASUVORK5C\">"
      ],
      "text/plain": [
       "28×28 Array{Gray{N0f8},2} with eltype Gray{N0f8}:\n",
       " Gray{N0f8}(0.0)  Gray{N0f8}(0.0)  …  Gray{N0f8}(0.0)  Gray{N0f8}(0.0)\n",
       " Gray{N0f8}(0.0)  Gray{N0f8}(0.0)     Gray{N0f8}(0.0)  Gray{N0f8}(0.0)\n",
       " Gray{N0f8}(0.0)  Gray{N0f8}(0.0)     Gray{N0f8}(0.0)  Gray{N0f8}(0.0)\n",
       " Gray{N0f8}(0.0)  Gray{N0f8}(0.0)     Gray{N0f8}(0.0)  Gray{N0f8}(0.0)\n",
       " Gray{N0f8}(0.0)  Gray{N0f8}(0.0)     Gray{N0f8}(0.0)  Gray{N0f8}(0.0)\n",
       " Gray{N0f8}(0.0)  Gray{N0f8}(0.0)  …  Gray{N0f8}(0.0)  Gray{N0f8}(0.0)\n",
       " Gray{N0f8}(0.0)  Gray{N0f8}(0.0)     Gray{N0f8}(0.0)  Gray{N0f8}(0.0)\n",
       " Gray{N0f8}(0.0)  Gray{N0f8}(0.0)     Gray{N0f8}(0.0)  Gray{N0f8}(0.0)\n",
       " Gray{N0f8}(0.0)  Gray{N0f8}(0.0)     Gray{N0f8}(0.0)  Gray{N0f8}(0.0)\n",
       " Gray{N0f8}(0.0)  Gray{N0f8}(0.0)     Gray{N0f8}(0.0)  Gray{N0f8}(0.0)\n",
       " ⋮                                 ⋱                   \n",
       " Gray{N0f8}(0.0)  Gray{N0f8}(0.0)     Gray{N0f8}(0.0)  Gray{N0f8}(0.0)\n",
       " Gray{N0f8}(0.0)  Gray{N0f8}(0.0)  …  Gray{N0f8}(0.0)  Gray{N0f8}(0.0)\n",
       " Gray{N0f8}(0.0)  Gray{N0f8}(0.0)     Gray{N0f8}(0.0)  Gray{N0f8}(0.0)\n",
       " Gray{N0f8}(0.0)  Gray{N0f8}(0.0)     Gray{N0f8}(0.0)  Gray{N0f8}(0.0)\n",
       " Gray{N0f8}(0.0)  Gray{N0f8}(0.0)     Gray{N0f8}(0.0)  Gray{N0f8}(0.0)\n",
       " Gray{N0f8}(0.0)  Gray{N0f8}(0.0)     Gray{N0f8}(0.0)  Gray{N0f8}(0.0)\n",
       " Gray{N0f8}(0.0)  Gray{N0f8}(0.0)  …  Gray{N0f8}(0.0)  Gray{N0f8}(0.0)\n",
       " Gray{N0f8}(0.0)  Gray{N0f8}(0.0)     Gray{N0f8}(0.0)  Gray{N0f8}(0.0)\n",
       " Gray{N0f8}(0.0)  Gray{N0f8}(0.0)     Gray{N0f8}(0.0)  Gray{N0f8}(0.0)"
      ]
     },
     "metadata": {},
     "output_type": "display_data"
    }
   ],
   "source": [
    "img = load(\"training/0/1.png\")"
   ]
  },
  {
   "cell_type": "code",
   "execution_count": 3,
   "metadata": {},
   "outputs": [
    {
     "data": {
      "image/png": "[encoded data removed]",
      "text/html": [
       "<img src=\"data:image/png;base64,iVBORw0KGgoAAAANSUhEUgAAAGQAAABkCAAAAABVicqIAAAABGdBTUEAALGPC/xhBQAAAAFzUkdCAK7OHOkAAAAgY0hSTQAAeiYAAICEAAD6AAAAgOgAAHUwAADqYAAAOpgAABdwnLpRPAAABJxJREFUaAW9wdtPlOkdAODnG34gh0FBQNCguwriaT2gbm2qbTZt0ia972Wb/n29aO/aJs22Sbs2rqu0a3WV9YCI6HhEEHBmnOFrjBdVmBkxad7nCQmEBEICIYGQQEggJBASCAmEBEICIYHwjjZFmWU1rRWETl22CGVlZVU1zYUEwjuKzgrnPdNat0ETjhg34KYbvjPvqTXNhATCOzKhXaaVNlvsMem44w4YMG2PYd94oaqZkEB4x7LzMota6TDkc7/2iX5d2o0bdkLRv1Q1ExII76h5ppWColGf+8IR/UJdXbt+ffYaxqpcbqOQQPgIbQYd9SsnbNeGmqq6Nl367fFaRV1uo5BA2JSCNlvt8GNn7denTWbNisdu63DaAb912ZRbSjYKCYRN6dBj1EG/8CPbdMi88UrJBR3GjZkwaouXSjYKCYRNGXfWYQeN6RXeyvTZqdeK+7oMKxrRrZGQQPigNu3G/NxnxrCmoqKiW68uRZklN3Ub1KXPFo2EBMIHdRoy5rBBGcoemDPrkDPKFj1y06ouR2UyjYUEQkttOn3itJNGdFnz0n3fuOuZum0emDZtxhOfqumxw3ZFZTXvCwmElsKgk37joG4Fr8276HeeG1GwaMpVJcsKTqsbcshew0pq3hcSCE1lugw5atK4Pq9VLbnhijsWLHtq2l3zqmqoyG3R76BjXlnxvpBAaCrTa7cfmNQns2LJI9dcs+C55zLkcv9T0Omwx6Y98L6QQGiioNOks874VOa6C0oemfNQRY7cRgU9+rRbLyQQmghFJ/zUhE4L/u0P7nsirKlqJtOlR1gvJBCa2Gq3cft0u+vPzrtuRVkmV/OxQgKhiRHH7TOgbNbffOuhXGuZZkICoYkDfmmPqgduu+WJXCuZTOaNzEYhgdBAt632O2q7ijkzFpR9WC63aknNeiGB0ECfCWN26vDUjHuqPiSXY80Lj1WsFxIIDYQeXTrULPjeHRXNFfTb64DwQslFX3tuvZBAaKCgXbs2q5773oyKZjLtRvzEMaHkhq98pWK9kEBoKremasWqNY0V9DrkjJ8Zs+KGf5hTtWa9kEBo4ZWXllU00ib02uWHzjkiN+2yrz1Us1FIIDRVN++WFY0VDTpu0hk7lVzyJ7NKljUSEggt5NbkNurWb58Jp3xmhyUXfelLZc2EBEIDmQxtRu1XtNEOp51zzoAOMy74vWlVzYUEQkM5Crba7bgVT5TVFPUa1KfbJ46ZMKrisf+YcsszrYQEQgO5tzrt8oVOlzy1atRekw7Yach2Vcvm3HTBVStaCwmEFgp6HbPNfotW7bTLLkN6ZRaVzLvkW7NKqloLCYQGcnU1dQU9DtrntLKyAX1yubrHbrvjlr+4bDNCAqGBZffMum9AEaGoU12nXMUL90z5u0cWzduckEBoYNVD06aMGVXUoRO5FQuemnPVP/3Vss0LCYQGqhZd8MxJp5wy4q0ZV1wx7b6Sso8REggN1NXds2DJE48MeyP3nWtumLWk6uOEBEITFa9Nue6Pwltlr5RV1X2skEBoYs2aZcv+H0ICIYGQQEggJBASCAmEBEICIYGQwH8BTeJr51cig58AAAAASUVORK5C\">"
      ],
      "text/plain": [
       "50×50 Array{Gray{N0f8},2} with eltype Gray{N0f8}:\n",
       " Gray{N0f8}(0.0)  Gray{N0f8}(0.0)  …  Gray{N0f8}(0.0)  Gray{N0f8}(0.0)\n",
       " Gray{N0f8}(0.0)  Gray{N0f8}(0.0)     Gray{N0f8}(0.0)  Gray{N0f8}(0.0)\n",
       " Gray{N0f8}(0.0)  Gray{N0f8}(0.0)     Gray{N0f8}(0.0)  Gray{N0f8}(0.0)\n",
       " Gray{N0f8}(0.0)  Gray{N0f8}(0.0)     Gray{N0f8}(0.0)  Gray{N0f8}(0.0)\n",
       " Gray{N0f8}(0.0)  Gray{N0f8}(0.0)     Gray{N0f8}(0.0)  Gray{N0f8}(0.0)\n",
       " Gray{N0f8}(0.0)  Gray{N0f8}(0.0)  …  Gray{N0f8}(0.0)  Gray{N0f8}(0.0)\n",
       " Gray{N0f8}(0.0)  Gray{N0f8}(0.0)     Gray{N0f8}(0.0)  Gray{N0f8}(0.0)\n",
       " Gray{N0f8}(0.0)  Gray{N0f8}(0.0)     Gray{N0f8}(0.0)  Gray{N0f8}(0.0)\n",
       " Gray{N0f8}(0.0)  Gray{N0f8}(0.0)     Gray{N0f8}(0.0)  Gray{N0f8}(0.0)\n",
       " Gray{N0f8}(0.0)  Gray{N0f8}(0.0)     Gray{N0f8}(0.0)  Gray{N0f8}(0.0)\n",
       " ⋮                                 ⋱                   \n",
       " Gray{N0f8}(0.0)  Gray{N0f8}(0.0)     Gray{N0f8}(0.0)  Gray{N0f8}(0.0)\n",
       " Gray{N0f8}(0.0)  Gray{N0f8}(0.0)     Gray{N0f8}(0.0)  Gray{N0f8}(0.0)\n",
       " Gray{N0f8}(0.0)  Gray{N0f8}(0.0)     Gray{N0f8}(0.0)  Gray{N0f8}(0.0)\n",
       " Gray{N0f8}(0.0)  Gray{N0f8}(0.0)     Gray{N0f8}(0.0)  Gray{N0f8}(0.0)\n",
       " Gray{N0f8}(0.0)  Gray{N0f8}(0.0)  …  Gray{N0f8}(0.0)  Gray{N0f8}(0.0)\n",
       " Gray{N0f8}(0.0)  Gray{N0f8}(0.0)     Gray{N0f8}(0.0)  Gray{N0f8}(0.0)\n",
       " Gray{N0f8}(0.0)  Gray{N0f8}(0.0)     Gray{N0f8}(0.0)  Gray{N0f8}(0.0)\n",
       " Gray{N0f8}(0.0)  Gray{N0f8}(0.0)     Gray{N0f8}(0.0)  Gray{N0f8}(0.0)\n",
       " Gray{N0f8}(0.0)  Gray{N0f8}(0.0)     Gray{N0f8}(0.0)  Gray{N0f8}(0.0)"
      ]
     },
     "metadata": {},
     "output_type": "display_data"
    }
   ],
   "source": [
    "size(img)\n",
    "typeof(img)\n",
    "img[5,5] = Gray(0.5)\n",
    "img[5,5] = RGB(1,0.5,0)\n",
    "img2 = img[1:10,1:20]\n",
    "img3 = img[5:22,5:22]\n",
    "img4 = Gray.(img)\n",
    "img5 = RGB.(img)\n",
    "img6 = (x-> Gray(1)-x.val).(img)\n",
    "img6 = imresize(img,(50,50))"
   ]
  },
  {
   "cell_type": "code",
   "execution_count": 4,
   "metadata": {},
   "outputs": [
    {
     "data": {
      "text/plain": [
       "28×28 Matrix{Float32}:\n",
       " 0.0  0.0  0.0  0.0  0.0       0.0  0.0       …  0.0  0.0  0.0  0.0  0.0  0.0\n",
       " 0.0  0.0  0.0  0.0  0.0       0.0  0.0          0.0  0.0  0.0  0.0  0.0  0.0\n",
       " 0.0  0.0  0.0  0.0  0.0       0.0  0.0          0.0  0.0  0.0  0.0  0.0  0.0\n",
       " 0.0  0.0  0.0  0.0  0.0       0.0  0.0          0.0  0.0  0.0  0.0  0.0  0.0\n",
       " 0.0  0.0  0.0  0.0  0.592157  0.0  0.0          0.0  0.0  0.0  0.0  0.0  0.0\n",
       " 0.0  0.0  0.0  0.0  0.0       0.0  0.0       …  0.0  0.0  0.0  0.0  0.0  0.0\n",
       " 0.0  0.0  0.0  0.0  0.0       0.0  0.0          0.0  0.0  0.0  0.0  0.0  0.0\n",
       " 0.0  0.0  0.0  0.0  0.0       0.0  0.0          0.0  0.0  0.0  0.0  0.0  0.0\n",
       " 0.0  0.0  0.0  0.0  0.0       0.0  0.0          0.0  0.0  0.0  0.0  0.0  0.0\n",
       " 0.0  0.0  0.0  0.0  0.0       0.0  0.0          0.0  0.0  0.0  0.0  0.0  0.0\n",
       " ⋮                             ⋮              ⋱                 ⋮         \n",
       " 0.0  0.0  0.0  0.0  0.0       0.0  0.337255     0.0  0.0  0.0  0.0  0.0  0.0\n",
       " 0.0  0.0  0.0  0.0  0.0       0.0  0.333333  …  0.0  0.0  0.0  0.0  0.0  0.0\n",
       " 0.0  0.0  0.0  0.0  0.0       0.0  0.333333     0.0  0.0  0.0  0.0  0.0  0.0\n",
       " 0.0  0.0  0.0  0.0  0.0       0.0  0.109804     0.0  0.0  0.0  0.0  0.0  0.0\n",
       " 0.0  0.0  0.0  0.0  0.0       0.0  0.0          0.0  0.0  0.0  0.0  0.0  0.0\n",
       " 0.0  0.0  0.0  0.0  0.0       0.0  0.0          0.0  0.0  0.0  0.0  0.0  0.0\n",
       " 0.0  0.0  0.0  0.0  0.0       0.0  0.0       …  0.0  0.0  0.0  0.0  0.0  0.0\n",
       " 0.0  0.0  0.0  0.0  0.0       0.0  0.0          0.0  0.0  0.0  0.0  0.0  0.0\n",
       " 0.0  0.0  0.0  0.0  0.0       0.0  0.0          0.0  0.0  0.0  0.0  0.0  0.0"
      ]
     },
     "metadata": {},
     "output_type": "display_data"
    }
   ],
   "source": [
    "data = Float32.(channelview(img))"
   ]
  },
  {
   "cell_type": "code",
   "execution_count": 5,
   "metadata": {},
   "outputs": [],
   "source": [
    "path = \"training\"\n",
    "X = []\n",
    "y = []\n",
    "for label in readdir(path)\n",
    "    for file in readdir(\"$path/$label\")\n",
    "        img = load(\"$path/$label/$file\")\n",
    "        data = reshape(Float32.(channelview(img)),28,28,1)\n",
    "        if length(X) == 0\n",
    "            X = data\n",
    "        else\n",
    "            X = cat(X,data,dims=3)\n",
    "        end\n",
    "        push!(y,parse(Float32,label))\n",
    "    end\n",
    "end"
   ]
  },
  {
   "cell_type": "code",
   "execution_count": 6,
   "metadata": {},
   "outputs": [
    {
     "data": {
      "text/plain": [
       "createDataset (generic function with 1 method)"
      ]
     },
     "metadata": {},
     "output_type": "display_data"
    }
   ],
   "source": [
    "using Images\n",
    "function createDataset(path)\n",
    "    X = []\n",
    "    y = []\n",
    "    for label in readdir(path)\n",
    "        for file in readdir(\"$path/$label\")\n",
    "            img = load(\"$path/$label/$file\")\n",
    "            data = reshape(Float32.(channelview(img)),28,28,1)\n",
    "            if length(X) == 0\n",
    "                X = data\n",
    "            else\n",
    "                X = cat(X,data,dims=3)\n",
    "            end\n",
    "            push!(y,parse(Float32,label))\n",
    "        end\n",
    "    end\n",
    "    return X,y\n",
    "end"
   ]
  },
  {
   "cell_type": "code",
   "execution_count": 7,
   "metadata": {},
   "outputs": [
    {
     "data": {
      "text/plain": [
       "(Float32[0.0 0.0 … 0.0 0.0; 0.0 0.0 … 0.0 0.0; … ; 0.0 0.0 … 0.0 0.0; 0.0 0.0 … 0.0 0.0;;; 0.0 0.0 … 0.0 0.0; 0.0 0.0 … 0.0 0.0; … ; 0.0 0.0 … 0.0 0.0; 0.0 0.0 … 0.0 0.0;;; 0.0 0.0 … 0.0 0.0; 0.0 0.0 … 0.0 0.0; … ; 0.0 0.0 … 0.0 0.0; 0.0 0.0 … 0.0 0.0;;; … ;;; 0.0 0.0 … 0.0 0.0; 0.0 0.0 … 0.0 0.0; … ; 0.0 0.0 … 0.0 0.0; 0.0 0.0 … 0.0 0.0;;; 0.0 0.0 … 0.0 0.0; 0.0 0.0 … 0.0 0.0; … ; 0.0 0.0 … 0.0 0.0; 0.0 0.0 … 0.0 0.0;;; 0.0 0.0 … 0.0 0.0; 0.0 0.0 … 0.0 0.0; … ; 0.0 0.0 … 0.0 0.0; 0.0 0.0 … 0.0 0.0], Any[0.0f0, 0.0f0, 0.0f0, 0.0f0, 0.0f0, 0.0f0, 0.0f0, 0.0f0, 0.0f0, 0.0f0  …  9.0f0, 9.0f0, 9.0f0, 9.0f0, 9.0f0, 9.0f0, 9.0f0, 9.0f0, 9.0f0, 9.0f0])"
      ]
     },
     "metadata": {},
     "output_type": "display_data"
    }
   ],
   "source": [
    "x_train, y_train = createDataset(\"training\")\n",
    "x_test, y_test = createDataset(\"testing\")"
   ]
  },
  {
   "cell_type": "code",
   "execution_count": 8,
   "metadata": {},
   "outputs": [
    {
     "name": "stderr",
     "output_type": "stream",
     "text": [
      "\u001b[32m\u001b[1m   Resolving\u001b[22m\u001b[39m package versions...\n",
      "\u001b[32m\u001b[1m  No Changes\u001b[22m\u001b[39m to `C:\\Users\\MuhammadAli\\.julia\\environments\\v1.10\\Project.toml`\n",
      "\u001b[32m\u001b[1m  No Changes\u001b[22m\u001b[39m to `C:\\Users\\MuhammadAli\\.julia\\environments\\v1.10\\Manifest.toml`\n"
     ]
    }
   ],
   "source": [
    "using Pkg\n",
    "Pkg.add(\"Flux\")\n",
    "using Flux"
   ]
  },
  {
   "cell_type": "code",
   "execution_count": 9,
   "metadata": {},
   "outputs": [
    {
     "data": {
      "text/plain": [
       "Chain(\n",
       "  Flux.flatten,\n",
       "  Dense(784 => 15, relu),               \u001b[90m# 11_775 parameters\u001b[39m\n",
       "  Dense(15 => 10, σ),                   \u001b[90m# 160 parameters\u001b[39m\n",
       "  NNlib.softmax,\n",
       ") \u001b[90m                  # Total: 4 arrays, \u001b[39m11_935 parameters, 46.871 KiB."
      ]
     },
     "metadata": {},
     "output_type": "display_data"
    }
   ],
   "source": [
    "model = Chain(\n",
    "    Flux.flatten,\n",
    "    Dense(784=>15,relu),\n",
    "    Dense(15=>10,sigmoid),\n",
    "    softmax\n",
    ")"
   ]
  },
  {
   "cell_type": "code",
   "execution_count": 10,
   "metadata": {},
   "outputs": [
    {
     "data": {
      "text/plain": [
       "10×1 Matrix{Float32}:\n",
       " 0.08498719\n",
       " 0.09651777\n",
       " 0.10816507\n",
       " 0.07430719\n",
       " 0.09521105\n",
       " 0.11835423\n",
       " 0.10502416\n",
       " 0.10928595\n",
       " 0.10027607\n",
       " 0.107871346"
      ]
     },
     "metadata": {},
     "output_type": "display_data"
    }
   ],
   "source": [
    "predict = model(Flux.unsqueeze(x_train[:,:,1],dims=3))"
   ]
  },
  {
   "cell_type": "code",
   "execution_count": 11,
   "metadata": {},
   "outputs": [
    {
     "data": {
      "text/plain": [
       "0.0f0"
      ]
     },
     "metadata": {},
     "output_type": "display_data"
    }
   ],
   "source": [
    "y_train[1]"
   ]
  },
  {
   "cell_type": "code",
   "execution_count": 12,
   "metadata": {},
   "outputs": [],
   "source": [
    "# Assemble the training data\n",
    "data = Flux.DataLoader((x_train,y_train), shuffle=true)\n",
    "\n",
    "# Initialize the ADAM optimizer with default settings\n",
    "optimizer = Flux.setup(Adam(), model)\n",
    "\n",
    "# Define the loss function that uses the cross-entropy to \n",
    "# measure the error by comparing model predictions of data \n",
    "# row \"x\" with true data label in the \"y\"\n",
    "function loss(model, x, y)\n",
    "\treturn Flux.crossentropy(model(x),Flux.onehotbatch(y,0:9))\n",
    "end\n",
    "\n",
    "# Train the model 10 times in a loop\n",
    "for epoch in 1:10\n",
    "\tFlux.train!(loss, model, data, optimizer)\n",
    "end"
   ]
  },
  {
   "cell_type": "code",
   "execution_count": 13,
   "metadata": {},
   "outputs": [
    {
     "data": {
      "text/plain": [
       "10×1 Matrix{Float32}:\n",
       " 0.23196934\n",
       " 0.08533675\n",
       " 0.08533675\n",
       " 0.08533675\n",
       " 0.08533675\n",
       " 0.08533675\n",
       " 0.08533675\n",
       " 0.08533675\n",
       " 0.08533675\n",
       " 0.08533675"
      ]
     },
     "metadata": {},
     "output_type": "display_data"
    }
   ],
   "source": [
    "predict = model(Flux.unsqueeze(x_train[:,:,1],dims=3))"
   ]
  },
  {
   "cell_type": "code",
   "execution_count": 14,
   "metadata": {},
   "outputs": [
    {
     "data": {
      "text/plain": [
       "accuracy (generic function with 1 method)"
      ]
     },
     "metadata": {},
     "output_type": "display_data"
    }
   ],
   "source": [
    "function accuracy()\n",
    "    correct = 0\n",
    "    for index in 1:length(y_test)\n",
    "        probs = model(Flux.unsqueeze(x_test[:,:,index],dims=3))\n",
    "        predicted_digit = argmax(probs)[1]-1\n",
    "        if predicted_digit == y_test[index]\n",
    "            correct +=1\n",
    "        end\n",
    "    end\n",
    "    return correct/length(y_test)\n",
    "end"
   ]
  },
  {
   "cell_type": "code",
   "execution_count": 15,
   "metadata": {},
   "outputs": [
    {
     "name": "stdout",
     "output_type": "stream",
     "text": [
      "0.9246\n",
      "0.9164\n",
      "0.9216\n",
      "0.9182\n",
      "0.9231\n",
      "0.9176\n",
      "0.9123\n",
      "0.9162\n",
      "0.9124\n",
      "0.9043\n"
     ]
    }
   ],
   "source": [
    "for epoch in 1:10\n",
    "    Flux.train!(loss, model, data, optimizer)\n",
    "    println(accuracy())\n",
    "end"
   ]
  },
  {
   "cell_type": "code",
   "execution_count": 16,
   "metadata": {},
   "outputs": [
    {
     "data": {
      "text/plain": [
       "Chain(\n",
       "  Conv((5, 5), 1 => 6, relu),           \u001b[90m# 156 parameters\u001b[39m\n",
       "  Flux.flatten,\n",
       "  Dense(4704 => 15, relu),              \u001b[90m# 70_575 parameters\u001b[39m\n",
       "  Dense(15 => 10, σ),                   \u001b[90m# 160 parameters\u001b[39m\n",
       "  NNlib.softmax,\n",
       ") \u001b[90m                  # Total: 6 arrays, \u001b[39m70_891 parameters, 277.520 KiB."
      ]
     },
     "metadata": {},
     "output_type": "display_data"
    }
   ],
   "source": [
    "model = Chain(\n",
    "    Conv((5,5),1=>6,relu),\n",
    "    Flux.flatten,\n",
    "    Dense(4704=>15,relu),\n",
    "    Dense(15=>10,sigmoid),\n",
    "    softmax\n",
    ")"
   ]
  },
  {
   "cell_type": "code",
   "execution_count": 17,
   "metadata": {},
   "outputs": [
    {
     "data": {
      "text/plain": [
       "Chain(\n",
       "  Conv((5, 5), 1 => 6, relu),           \u001b[90m# 156 parameters\u001b[39m\n",
       "  MaxPool((2, 2)),\n",
       "  Flux.flatten,\n",
       "  Dense(1176 => 15, relu),              \u001b[90m# 17_655 parameters\u001b[39m\n",
       "  Dense(15 => 10, σ),                   \u001b[90m# 160 parameters\u001b[39m\n",
       "  NNlib.softmax,\n",
       ") \u001b[90m                  # Total: 6 arrays, \u001b[39m17_971 parameters, 70.926 KiB."
      ]
     },
     "metadata": {},
     "output_type": "display_data"
    }
   ],
   "source": [
    "model = Chain(\n",
    "    Conv((5,5),1=>6,relu),\n",
    "    MaxPool((2,2)),\n",
    "    Flux.flatten,\n",
    "    Dense(1176=>15,relu),\n",
    "    Dense(15=>10,sigmoid),\n",
    "    softmax\n",
    ")"
   ]
  },
  {
   "cell_type": "code",
   "execution_count": 18,
   "metadata": {},
   "outputs": [
    {
     "data": {
      "text/plain": [
       "Chain(\n",
       "  Conv((5, 5), 1 => 6, relu),           \u001b[90m# 156 parameters\u001b[39m\n",
       "  MaxPool((2, 2)),\n",
       "  Conv((5, 5), 6 => 16, relu),          \u001b[90m# 2_416 parameters\u001b[39m\n",
       "  MaxPool((2, 2)),\n",
       "  Flux.flatten,\n",
       "  Dense(256 => 120, relu),              \u001b[90m# 30_840 parameters\u001b[39m\n",
       "  Dense(120 => 84, relu),               \u001b[90m# 10_164 parameters\u001b[39m\n",
       "  Dense(84 => 10, σ),                   \u001b[90m# 850 parameters\u001b[39m\n",
       "  NNlib.softmax,\n",
       ") \u001b[90m                  # Total: 10 arrays, \u001b[39m44_426 parameters, 174.867 KiB."
      ]
     },
     "metadata": {},
     "output_type": "display_data"
    }
   ],
   "source": [
    "model = Chain(\n",
    "    Conv((5,5),1 => 6, relu),\n",
    "    MaxPool((2,2)),\n",
    "    Conv((5,5),6 => 16, relu),\n",
    "    MaxPool((2,2)),\n",
    "    Flux.flatten,\n",
    "    Dense(256=>120,relu),\n",
    "    Dense(120=>84, relu),\n",
    "    Dense(84=>10, sigmoid),\n",
    "    softmax\n",
    ")"
   ]
  },
  {
   "cell_type": "code",
   "execution_count": 19,
   "metadata": {},
   "outputs": [
    {
     "name": "stdout",
     "output_type": "stream",
     "text": [
      "0.9542\n",
      "0.9612\n",
      "0.947\n",
      "0.9412\n",
      "0.923\n",
      "0.951\n",
      "0.9605\n",
      "0.9429\n",
      "0.9407\n",
      "0.9285\n"
     ]
    }
   ],
   "source": [
    "model = Chain(\n",
    "    Conv((5,5),1 => 6, relu),\n",
    "    MaxPool((2,2)),\n",
    "    Conv((5,5),6 => 16, relu),\n",
    "    MaxPool((2,2)),\n",
    "    Flux.flatten,\n",
    "    Dense(256=>120,relu),\n",
    "    Dense(120=>84, relu),\n",
    "    Dense(84=>10, sigmoid),\n",
    "    softmax\n",
    ")\n",
    "\n",
    "# Function to measure the model accuracy\n",
    "function accuracy()\n",
    "    correct = 0\n",
    "    for index in 1:length(y_test)\n",
    "        probs = model(Flux.unsqueeze(x_test[:,:,:,index],dims=4))\n",
    "        predicted_digit = argmax(probs)[1]-1\n",
    "        if predicted_digit == y_test[index]\n",
    "            correct +=1\n",
    "        end\n",
    "    end\n",
    "    return correct/length(y_test)\n",
    "end\n",
    "\n",
    "# Reshape the data\n",
    "x_train = reshape(x_train, 28, 28, 1, :)\n",
    "x_test = reshape(x_test, 28, 28, 1, :)\n",
    "\n",
    "# Assemble the training data\n",
    "train_data = Flux.DataLoader((x_train,y_train), shuffle=true)\n",
    "\n",
    "# Initialize the ADAM optimizer with default settings\n",
    "optimizer = Flux.setup(Adam(), model)\n",
    "\n",
    "# Define the loss function that uses the cross-entropy to \n",
    "# measure the error by comparing model predictions of \n",
    "# data row \"x\" with true data from label \"y\"\n",
    "function loss(model, x, y)\n",
    "\treturn Flux.crossentropy(model(x),Flux.onehotbatch(y,0:9))\n",
    "end\n",
    "\n",
    "# Train model 10 times in a loop\n",
    "for epoch in 1:10\n",
    "    Flux.train!(loss, model, train_data, optimizer)\n",
    "    println(accuracy())\n",
    "end"
   ]
  },
  {
   "cell_type": "code",
   "execution_count": 20,
   "metadata": {},
   "outputs": [
    {
     "name": "stderr",
     "output_type": "stream",
     "text": [
      "\u001b[32m\u001b[1m   Resolving\u001b[22m\u001b[39m package versions...\n",
      "\u001b[32m\u001b[1m   Installed\u001b[22m\u001b[39m BSON ─ v0.3.9\n",
      "\u001b[32m\u001b[1m    Updating\u001b[22m\u001b[39m `C:\\Users\\MuhammadAli\\.julia\\environments\\v1.10\\Project.toml`\n",
      "  \u001b[90m[fbb218c0] \u001b[39m\u001b[92m+ BSON v0.3.9\u001b[39m\n",
      "\u001b[32m\u001b[1m    Updating\u001b[22m\u001b[39m `C:\\Users\\MuhammadAli\\.julia\\environments\\v1.10\\Manifest.toml`\n",
      "  \u001b[90m[fbb218c0] \u001b[39m\u001b[92m+ BSON v0.3.9\u001b[39m\n",
      "\u001b[32m\u001b[1mPrecompiling\u001b[22m\u001b[39m project...\n",
      "\u001b[32m  ✓ \u001b[39mBSON\n",
      "  1 dependency successfully precompiled in 7 seconds. 304 already precompiled.\n"
     ]
    }
   ],
   "source": [
    "import Pkg\n",
    "Pkg.add(\"BSON\")"
   ]
  },
  {
   "cell_type": "code",
   "execution_count": 21,
   "metadata": {},
   "outputs": [],
   "source": [
    "using BSON\n",
    "BSON.@save \"digits.bson\" model"
   ]
  }
 ],
 "metadata": {
  "kernelspec": {
   "display_name": "Julia 1.10.0",
   "language": "julia",
   "name": "julia-1.10"
  },
  "language_info": {
   "file_extension": ".jl",
   "mimetype": "application/julia",
   "name": "julia",
   "version": "1.10.0"
  },
  "orig_nbformat": 4
 },
 "nbformat": 4,
 "nbformat_minor": 2
}
